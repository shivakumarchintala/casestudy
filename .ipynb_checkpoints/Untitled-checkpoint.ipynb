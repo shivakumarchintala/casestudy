{
 "cells": [
  {
   "cell_type": "code",
   "execution_count": 73,
   "id": "ce6f957e-e0dc-477b-a9fd-461f751989de",
   "metadata": {},
   "outputs": [],
   "source": [
    "def countRow():\n",
    "    for x in open(\"/home/hdoop/casestudy/movielenz/ml-25m/genome-scores.csv\",\"r\"):\n",
    "        yield x"
   ]
  },
  {
   "cell_type": "code",
   "execution_count": null,
   "id": "542f73f7-4ec1-42e1-ac83-0ee588d13c75",
   "metadata": {},
   "outputs": [],
   "source": [
    "count = 0\n",
    "for x in countRow():\n",
    "    count += 1"
   ]
  },
  {
   "cell_type": "code",
   "execution_count": 81,
   "id": "cb3e0be7-ed23-49f1-9ee1-efc65d2c2d1c",
   "metadata": {},
   "outputs": [],
   "source": [
    "count = 0\n",
    "for x in countRow():\n",
    "    count += 1"
   ]
  },
  {
   "cell_type": "code",
   "execution_count": 82,
   "id": "8c78cac6-2a64-4e42-8036-a6f1feb9fd1a",
   "metadata": {},
   "outputs": [
    {
     "data": {
      "text/plain": [
       "15584449"
      ]
     },
     "execution_count": 82,
     "metadata": {},
     "output_type": "execute_result"
    }
   ],
   "source": [
    "count"
   ]
  },
  {
   "cell_type": "code",
   "execution_count": 93,
   "id": "2265b2da-026e-4f4c-ba12-5609d1521f8c",
   "metadata": {},
   "outputs": [],
   "source": [
    "def infiniteCounter(final):\n",
    "    count = 0\n",
    "    while True:\n",
    "        if final == count:\n",
    "            break\n",
    "        else:\n",
    "            yield count\n",
    "            count += 1"
   ]
  },
  {
   "cell_type": "code",
   "execution_count": 113,
   "id": "fabb428b-f105-4158-9bb7-4be89ad949e9",
   "metadata": {},
   "outputs": [],
   "source": [
    "f = infiniteCounter(10)"
   ]
  },
  {
   "cell_type": "code",
   "execution_count": 124,
   "id": "79c67595-8105-4036-89ab-42b608a2216c",
   "metadata": {
    "collapsed": true,
    "jupyter": {
     "outputs_hidden": true
    },
    "tags": []
   },
   "outputs": [
    {
     "ename": "StopIteration",
     "evalue": "",
     "output_type": "error",
     "traceback": [
      "\u001b[0;31m---------------------------------------------------------------------------\u001b[0m",
      "\u001b[0;31mStopIteration\u001b[0m                             Traceback (most recent call last)",
      "Input \u001b[0;32mIn [124]\u001b[0m, in \u001b[0;36m<cell line: 1>\u001b[0;34m()\u001b[0m\n\u001b[0;32m----> 1\u001b[0m \u001b[38;5;28;43mnext\u001b[39;49m\u001b[43m(\u001b[49m\u001b[43mf\u001b[49m\u001b[43m)\u001b[49m\n",
      "\u001b[0;31mStopIteration\u001b[0m: "
     ]
    }
   ],
   "source": [
    "next(f)"
   ]
  },
  {
   "cell_type": "code",
   "execution_count": 2,
   "id": "a007db1e-4f3e-4a24-9a3b-4c46a8d46c98",
   "metadata": {},
   "outputs": [],
   "source": [
    "a = [1,3,5,7,9]\n",
    "b = [0,2,4,6,8]"
   ]
  },
  {
   "cell_type": "code",
   "execution_count": 3,
   "id": "31e3672f-2a2f-4afc-8594-c74a41ac1ae4",
   "metadata": {},
   "outputs": [
    {
     "name": "stdout",
     "output_type": "stream",
     "text": [
      "0 1\n",
      "1 1\n",
      "1 2\n",
      "2 2\n",
      "2 3\n",
      "3 3\n",
      "3 4\n",
      "4 4\n",
      "4 5\n",
      "5 5\n"
     ]
    }
   ],
   "source": [
    "final = []\n",
    "left = 0\n",
    "right = 0\n",
    "l_a, l_b = len(a), len(b)\n",
    "\n",
    "while left < l_a or right < l_b:\n",
    "    if left >= l_a:\n",
    "        final.append(b[right])\n",
    "        right +=1 \n",
    "    elif right >= l_b :\n",
    "        final.append(a[left])\n",
    "        left += 1\n",
    "    elif a[left] < b[right]:\n",
    "        final.append(a[left])\n",
    "        left += 1\n",
    "    else:\n",
    "        final.append(b[right])\n",
    "        right += 1\n",
    "    print(left, right)\n",
    "    "
   ]
  },
  {
   "cell_type": "code",
   "execution_count": 4,
   "id": "06a6dc85-a7f2-47d8-af4f-9e9d0b5e89c0",
   "metadata": {},
   "outputs": [
    {
     "data": {
      "text/plain": [
       "[0, 1, 2, 3, 4, 5, 6, 7, 8, 9]"
      ]
     },
     "execution_count": 4,
     "metadata": {},
     "output_type": "execute_result"
    }
   ],
   "source": [
    "final"
   ]
  },
  {
   "cell_type": "code",
   "execution_count": 12,
   "id": "1cc2a415-53a9-43b3-b10b-2da6534fb5fd",
   "metadata": {},
   "outputs": [],
   "source": [
    "def binary_search(array, target):\n",
    "    start = 0\n",
    "    left = len(array)-1\n",
    "    \n",
    "    while start <= left:\n",
    "        mid = (start+left)//2\n",
    "        if array[mid] == target:\n",
    "            return mid\n",
    "        elif array[mid] > target:\n",
    "            left = mid-1\n",
    "        elif array[mid] < target:\n",
    "            start = mid+1\n",
    "        else:\n",
    "            return -1"
   ]
  },
  {
   "cell_type": "code",
   "execution_count": 13,
   "id": "9c46830d-1179-4bc4-80f1-08503647a6da",
   "metadata": {},
   "outputs": [
    {
     "data": {
      "text/plain": [
       "8"
      ]
     },
     "execution_count": 13,
     "metadata": {},
     "output_type": "execute_result"
    }
   ],
   "source": [
    "binary_search([1,2,3,4,5,6,7,8,10],10)"
   ]
  },
  {
   "cell_type": "code",
   "execution_count": 14,
   "id": "6a2d64c6-dd2f-49e3-90f2-7ab8efdcab72",
   "metadata": {},
   "outputs": [
    {
     "data": {
      "text/plain": [
       "9"
      ]
     },
     "execution_count": 14,
     "metadata": {},
     "output_type": "execute_result"
    }
   ],
   "source": [
    "len([1,2,3,4,5,6,7,8,10])"
   ]
  },
  {
   "cell_type": "code",
   "execution_count": 15,
   "id": "442ed0b5-bd77-49fa-945a-b5ddb7b4c766",
   "metadata": {},
   "outputs": [
    {
     "name": "stdout",
     "output_type": "stream",
     "text": [
      "1\n",
      "2\n",
      "3\n",
      "4\n",
      "5\n",
      "6\n",
      "7\n",
      "8\n",
      "9\n",
      "10\n"
     ]
    }
   ],
   "source": [
    "def print_1_to_n(n):\n",
    "    if n==0: return None\n",
    "    print_1_to_n(n-1)\n",
    "    print(n)\n",
    "    \n",
    "print_1_to_n(10)"
   ]
  },
  {
   "cell_type": "code",
   "execution_count": 36,
   "id": "7cf4fa40-2ad8-4628-9b87-444d127f923a",
   "metadata": {},
   "outputs": [],
   "source": [
    "# binary search \n",
    "array = [1,10,12,15,66,98,333,43433,55555,10000]\n",
    "def bianry_search(array,left,right,target):\n",
    "    # print(array,left,right,target)\n",
    "    if left > right: return -1\n",
    "    mid = (left+right)//2\n",
    "    # print(mid)\n",
    "    if array[mid]==target:\n",
    "        return mid\n",
    "    elif array[mid] > target:\n",
    "        right = mid-1\n",
    "        return bianry_search(array,left,right,target)\n",
    "    elif array[mid] < target:\n",
    "        left = mid+1\n",
    "        return bianry_search(array,left,right,target)"
   ]
  },
  {
   "cell_type": "code",
   "execution_count": 37,
   "id": "7822c097-f047-49dd-9b5f-859724deb3af",
   "metadata": {},
   "outputs": [
    {
     "name": "stdout",
     "output_type": "stream",
     "text": [
      "6\n"
     ]
    }
   ],
   "source": [
    "print(bianry_search(array,0,len(array)-1,333))"
   ]
  },
  {
   "cell_type": "code",
   "execution_count": 43,
   "id": "b1a7b7da-c235-404c-b814-e289bacfe682",
   "metadata": {},
   "outputs": [],
   "source": [
    "array2 = [1,2,3,10,10,10,12,12,13,14,15,15,16,16,16]\n"
   ]
  },
  {
   "cell_type": "code",
   "execution_count": 42,
   "id": "153e0efc-8af0-481e-8760-363de9e4b4c8",
   "metadata": {},
   "outputs": [
    {
     "data": {
      "text/plain": [
       "16"
      ]
     },
     "execution_count": 42,
     "metadata": {},
     "output_type": "execute_result"
    }
   ],
   "source": [
    "def first_occurence_sorted_array(array,target):\n",
    "    for index,x in enumerate(array):\n",
    "        if x==target:return index\n",
    "\n",
    "array2[first_occurence_sorted_array(array2,16)]"
   ]
  },
  {
   "cell_type": "code",
   "execution_count": 47,
   "id": "2a9243c5-d24a-4edc-b204-3da0c10709a8",
   "metadata": {},
   "outputs": [
    {
     "data": {
      "text/plain": [
       "11"
      ]
     },
     "execution_count": 47,
     "metadata": {},
     "output_type": "execute_result"
    }
   ],
   "source": [
    "bianry_search(array2,0,len(array2),15)"
   ]
  },
  {
   "cell_type": "code",
   "execution_count": 49,
   "id": "305c486a-f8e1-40e6-b938-a57702d36b23",
   "metadata": {},
   "outputs": [
    {
     "data": {
      "text/plain": [
       "15"
      ]
     },
     "execution_count": 49,
     "metadata": {},
     "output_type": "execute_result"
    }
   ],
   "source": [
    "def fosa(arr,low,high,x):\n",
    "    if low > high: return -1\n",
    "    mi = (low+high) // 2\n",
    "    if "
   ]
  }
 ],
 "metadata": {
  "kernelspec": {
   "display_name": "Python 3 (ipykernel)",
   "language": "python",
   "name": "python3"
  },
  "language_info": {
   "codemirror_mode": {
    "name": "ipython",
    "version": 3
   },
   "file_extension": ".py",
   "mimetype": "text/x-python",
   "name": "python",
   "nbconvert_exporter": "python",
   "pygments_lexer": "ipython3",
   "version": "3.8.10"
  }
 },
 "nbformat": 4,
 "nbformat_minor": 5
}
