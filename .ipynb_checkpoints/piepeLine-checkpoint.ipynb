{
 "cells": [
  {
   "cell_type": "code",
   "execution_count": 1,
   "id": "6fdce617-8f51-428c-ab60-84aca95f7b35",
   "metadata": {},
   "outputs": [],
   "source": [
    "#reomve when pushing to production\n",
    "import findspark\n",
    "findspark.init()\n",
    "\n",
    "from pyspark.sql import functions as f, SparkSession,Row\n",
    "import json,os\n",
    "import path_clm as pc\n",
    "\n",
    "from pyspark.sql.types import *"
   ]
  },
  {
   "cell_type": "code",
   "execution_count": 2,
   "id": "e14a1eea-82a5-4fc7-9226-3236fb6c1741",
   "metadata": {},
   "outputs": [],
   "source": [
    "path = pc.Path()\n",
    "\n",
    "\n",
    "config = path.config()"
   ]
  },
  {
   "cell_type": "code",
   "execution_count": 3,
   "id": "f15f8cc9-3077-4b1a-b897-5238b6e5a515",
   "metadata": {},
   "outputs": [
    {
     "name": "stderr",
     "output_type": "stream",
     "text": [
      "2022-11-10 13:06:55,635 WARN util.Utils: Your hostname, shiva-VirtualBox resolves to a loopback address: 127.0.1.1; using 10.0.2.15 instead (on interface enp0s3)\n",
      "2022-11-10 13:06:55,636 WARN util.Utils: Set SPARK_LOCAL_IP if you need to bind to another address\n",
      "Setting default log level to \"WARN\".\n",
      "To adjust logging level use sc.setLogLevel(newLevel). For SparkR, use setLogLevel(newLevel).\n",
      "2022-11-10 13:07:00,772 WARN yarn.Client: Neither spark.yarn.jars nor spark.yarn.archive is set, falling back to uploading libraries under SPARK_HOME.\n"
     ]
    }
   ],
   "source": [
    "spark = (SparkSession\n",
    "        .builder\n",
    "        .appName(\"CaseStudy - MovieLenz\")\n",
    "        .master(\"yarn\")\n",
    "         .config(\"spark.executor.cores\",2)\n",
    "         .config(\"spark.executor.instances\",3)\n",
    "         .config(\"spark.driver.cores\",2)\n",
    "         .enableHiveSupport()\n",
    "        .getOrCreate())\n",
    "\n",
    "# spark.sparkContext.getConf().getAll()"
   ]
  },
  {
   "cell_type": "code",
   "execution_count": 5,
   "id": "a911b061-2e90-44d4-8aed-9e928196c25f",
   "metadata": {},
   "outputs": [],
   "source": [
    "SourceMacroDict = {}\n",
    "\n",
    "SourceMacroDict['path'] = config['paths']['source_dir']\n",
    "\n",
    "##creating daa frames\n",
    "df = {}\n",
    "\n",
    "# df['genome-scores'] = spark.read.csv(f\"{SourceMacroDict['path']}/genome-scores.csv\",header=True,schema=StructType([StructField(\"movieID\",IntegerType(),True),StructField(\"tagID\",StringType(),True),StructField(\"relevance\",DoubleType()) ]))\n",
    "\n",
    "df['genome-tags'] = spark.read.csv(f\"{SourceMacroDict['path']}/genome-tags.csv\",header=True,schema=StructType([StructField(\"tagID\",IntegerType()),StructField(\"tag\",StringType())]))\n",
    "\n",
    "df['links'] = spark.read.csv(f\"{SourceMacroDict['path']}/links.csv\",header=True\n",
    "                             ,schema=StructType([StructField(\"movieId\", IntegerType()), StructField(\"imdbId\", IntegerType()), StructField(\"tmdbId\", IntegerType())]))\n",
    "\n",
    "df['movies'] = spark.read.csv(f\"{SourceMacroDict['path']}/movies.csv\",header=True,\n",
    "                              schema=StructType([StructField(\"movieId\", IntegerType()), StructField(\"title\",StringType()), StructField(\"genres\",StringType())]))\n",
    "\n",
    "df['ratings'] = spark.read.csv(f\"{SourceMacroDict['path']}/ratings.csv\",header=True,\n",
    "                               schema=StructType([StructField(\"userId\",IntegerType()),StructField(\"movieId\",IntegerType()),StructField(\"rating\",DoubleType()),StructField(\"timestamp\",StringType())]))\n",
    "\n",
    "df['tags'] = spark.read.csv(f\"{SourceMacroDict['path']}/tags.csv\",header=True,schema=StructType([StructField(\"userId\",IntegerType())\n",
    "                                                                                                 ,StructField(\"movieId\",IntegerType()),StructField(\"tag\",StringType()),StructField(\"timestamp\",StringType())]))\n",
    "\n",
    "df['ratings'] = df['ratings'].withColumn(\"ratings_timestamp\", f.expr(\"to_timestamp(from_unixtime(timestamp))\"))\n",
    "\n",
    "df['tags'] = df['tags'].withColumn(\"tags_timestamp\", f.expr(\"to_timestamp(from_unixtime(timestamp))\"))"
   ]
  },
  {
   "cell_type": "code",
   "execution_count": 6,
   "id": "0c176719-9486-4ec4-9e48-2210ad50ac43",
   "metadata": {},
   "outputs": [],
   "source": [
    "df['movies'] = df['movies'].withColumn(\"releasedInyear\",f.expr(\"cast(substr(split(title,'[(]')[1],1,4) as Integer)\"))"
   ]
  },
  {
   "cell_type": "code",
   "execution_count": 7,
   "id": "19170295-721a-464e-b28e-db5717ef5ee5",
   "metadata": {},
   "outputs": [
    {
     "name": "stderr",
     "output_type": "stream",
     "text": [
      "2022-11-10 13:08:08,314 WARN conf.HiveConf: HiveConf of name hive.metastore.event.db.notification.api.auth does not exist\n",
      "2022-11-10 13:08:08,315 WARN conf.HiveConf: HiveConf of name hive.server2.active.passive.ha.enable does not exist\n",
      "2022-11-10 13:08:08,315 WARN conf.HiveConf: HiveConf of name hive.hwi.listen.host does not exist\n",
      "2022-11-10 13:08:08,316 WARN conf.HiveConf: HiveConf of name hive.server2.thrift.bind.port does not exist\n",
      "2022-11-10 13:08:08,317 WARN conf.HiveConf: HiveConf of name hive.hwi.listen.port does not exist\n"
     ]
    }
   ],
   "source": [
    "#final report \n",
    "df['final_report'] = (\n",
    "    spark.table('genome_scores').where(\"relevance > 0.5\").join(df['genome-tags'],['tagid'],'inner')\n",
    "    .join(\n",
    "        df['movies'].where(\"releasedInyear is not null\") ,['movieID'],'inner'\n",
    "    )\n",
    "    .join(\n",
    "        df['ratings'].groupBy(\"movieId\").agg(f.round(f.avg(\"rating\"),2).alias(\"total_ratings\")),['movieId'],'inner'\n",
    "    )\n",
    ")"
   ]
  },
  {
   "cell_type": "code",
   "execution_count": 8,
   "id": "76c81a68-760f-44f1-bc8e-75e2df970518",
   "metadata": {},
   "outputs": [
    {
     "name": "stderr",
     "output_type": "stream",
     "text": [
      "                                                                                \r"
     ]
    },
    {
     "name": "stdout",
     "output_type": "stream",
     "text": [
      "+------------------+------+\n",
      "|        firstGenre| count|\n",
      "+------------------+------+\n",
      "|             Drama|139032|\n",
      "|            Comedy|117902|\n",
      "|            Action| 92180|\n",
      "|             Crime| 40748|\n",
      "|         Adventure| 31888|\n",
      "|       Documentary| 28763|\n",
      "|            Horror| 25874|\n",
      "|         Animation| 13267|\n",
      "|          Children|  6393|\n",
      "|          Thriller|  5914|\n",
      "|            Sci-Fi|  3939|\n",
      "|           Mystery|  3519|\n",
      "|           Western|  2787|\n",
      "|           Fantasy|  2524|\n",
      "|           Romance|  1874|\n",
      "|(no genres listed)|  1868|\n",
      "|         Film-Noir|  1513|\n",
      "|           Musical|   987|\n",
      "|               War|   564|\n",
      "+------------------+------+\n",
      "\n"
     ]
    }
   ],
   "source": [
    "(\n",
    "    df['final_report'].withColumn(\"firstGenre\", f.expr(\"split(genres,'[|]')[0]\"))\n",
    "    # .groupBy(\"firstGenre\").count().orderBy(f.desc(\"count\"))\n",
    ")"
   ]
  },
  {
   "cell_type": "code",
   "execution_count": 39,
   "id": "fca96413-bae4-4d51-9376-3cda32cf04f7",
   "metadata": {},
   "outputs": [
    {
     "data": {
      "text/plain": [
       "Column<'(rand(7154226332855476459) * 200)'>"
      ]
     },
     "execution_count": 39,
     "metadata": {},
     "output_type": "execute_result"
    }
   ],
   "source": [
    "f.rand() * 200"
   ]
  },
  {
   "cell_type": "code",
   "execution_count": 47,
   "id": "bb167cce-91a1-4533-a227-ecb5dd18cf75",
   "metadata": {},
   "outputs": [
    {
     "name": "stdout",
     "output_type": "stream",
     "text": [
      "+-----------------+\n",
      "|           rand()|\n",
      "+-----------------+\n",
      "|0.999740671372366|\n",
      "+-----------------+\n",
      "\n"
     ]
    }
   ],
   "source": [
    "spark.sql(\"select rand()\").show()"
   ]
  },
  {
   "cell_type": "code",
   "execution_count": 49,
   "id": "8c6939b3-18ec-4379-8cb7-80faff55c0d6",
   "metadata": {},
   "outputs": [
    {
     "name": "stderr",
     "output_type": "stream",
     "text": [
      "                                                                                \r"
     ]
    },
    {
     "name": "stdout",
     "output_type": "stream",
     "text": [
      "+------------------+-----+\n",
      "|        firstGenre|count|\n",
      "+------------------+-----+\n",
      "|             Crime|  200|\n",
      "|           Romance|  200|\n",
      "|          Thriller|  200|\n",
      "|         Adventure|  200|\n",
      "|             Drama|  200|\n",
      "|               War|  189|\n",
      "|       Documentary|  200|\n",
      "|           Fantasy|  200|\n",
      "|           Mystery|  200|\n",
      "|           Musical|  200|\n",
      "|         Animation|  200|\n",
      "|         Film-Noir|  199|\n",
      "|(no genres listed)|  200|\n",
      "|            Horror|  200|\n",
      "|           Western|  200|\n",
      "|            Comedy|  200|\n",
      "|          Children|  200|\n",
      "|            Action|  200|\n",
      "|            Sci-Fi|  200|\n",
      "+------------------+-----+\n",
      "\n"
     ]
    }
   ],
   "source": [
    "(\n",
    "    df['final_report'].withColumn(\"firstGenre\", f.expr(\"split(genres,'[|]')[0]\")).withColumn(\"salt\", f.expr(\"cast( rand() * 200 as Integer)\") )\n",
    "    .groupBy(\"firstGenre\",\"salt\").count().groupBy(\"firstGenre\").count()\n",
    ").show()"
   ]
  },
  {
   "cell_type": "code",
   "execution_count": 20,
   "id": "807c93e2-327c-4bcf-b95d-31609e4102b7",
   "metadata": {},
   "outputs": [
    {
     "name": "stderr",
     "output_type": "stream",
     "text": [
      "                                                                                \r"
     ]
    }
   ],
   "source": [
    "df['final_report'].write.parquet(\"s3a://movielenzreports/casestudy/movielenz_final\",mode=\"overwrite\")"
   ]
  },
  {
   "cell_type": "code",
   "execution_count": 9,
   "id": "067060f9-4e13-4cf5-884e-c5feaaed35b9",
   "metadata": {},
   "outputs": [
    {
     "name": "stderr",
     "output_type": "stream",
     "text": [
      "                                                                                \r"
     ]
    }
   ],
   "source": [
    "df['final_report'] = spark.read.parquet(\"s3a://movielenzreports/casestudy/movielenz_final\")"
   ]
  },
  {
   "cell_type": "code",
   "execution_count": 10,
   "id": "c016109b-0feb-4d09-b071-10b3d718b961",
   "metadata": {},
   "outputs": [],
   "source": [
    "# query to report movie name year adn total ratings along with geners\n",
    "df['movie_report'] = (\n",
    "    df['final_report'].groupBy(\"movieId\",\"title\").agg(f.round(f.avg(\"total_ratings\"),2).alias(\"total_ratings\"),\n",
    "    f.first(\"releasedinyear\").alias(\"releasedinyear\"),f.first(\"genres\").alias(\"genres\") )\n",
    "    .withColumn(\"total_genres_covered\", f.expr(\"size(split(genres,'[|]'))\"))\n",
    ")"
   ]
  },
  {
   "cell_type": "code",
   "execution_count": 11,
   "id": "63939d01-2fe5-4e64-b135-f4c4364b677d",
   "metadata": {},
   "outputs": [],
   "source": [
    "# config['mysql']"
   ]
  },
  {
   "cell_type": "code",
   "execution_count": 15,
   "id": "a50c7dd5-b7e0-49c4-a41b-f61d9d6f68af",
   "metadata": {},
   "outputs": [
    {
     "name": "stderr",
     "output_type": "stream",
     "text": [
      "Loading class `com.mysql.jdbc.Driver'. This is deprecated. The new driver class is `com.mysql.cj.jdbc.Driver'. The driver is automatically registered via the SPI and manual loading of the driver class is generally unnecessary.\n",
      "                                                                                \r"
     ]
    }
   ],
   "source": [
    "(\n",
    "    df['movie_report']\n",
    "    .write.format(\"jdbc\")\n",
    "    .option(\"url\",config['mysql']['url'])\n",
    "    .option(\"user\",config['mysql']['user'])\n",
    "    .option(\"password\",config['mysql']['password'])\n",
    "    .option(\"batchSize\",10000)\n",
    "    .option(\"dbtable\",\"movie_report\")\n",
    "    .option(\"driver\",\"com.mysql.cj.jdbc.Driver\")\n",
    "    .save()\n",
    ")"
   ]
  }
 ],
 "metadata": {
  "kernelspec": {
   "display_name": "Python 3 (ipykernel)",
   "language": "python",
   "name": "python3"
  },
  "language_info": {
   "codemirror_mode": {
    "name": "ipython",
    "version": 3
   },
   "file_extension": ".py",
   "mimetype": "text/x-python",
   "name": "python",
   "nbconvert_exporter": "python",
   "pygments_lexer": "ipython3",
   "version": "3.8.10"
  }
 },
 "nbformat": 4,
 "nbformat_minor": 5
}
