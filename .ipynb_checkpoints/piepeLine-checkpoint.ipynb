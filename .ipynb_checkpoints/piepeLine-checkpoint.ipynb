{
 "cells": [
  {
   "cell_type": "code",
   "execution_count": 2,
   "id": "6fdce617-8f51-428c-ab60-84aca95f7b35",
   "metadata": {},
   "outputs": [],
   "source": [
    "#reomve when pushing to production\n",
    "import findspark\n",
    "findspark.init(spark_home=\"/home/hdoop/spark-3.2.2-bin-hadoop3.2\")\n",
    "\n",
    "from pyspark.sql import functions as f, SparkSession,Row\n",
    "import json,os\n",
    "import path_clm as pc\n",
    "\n",
    "from pyspark.sql.types import *"
   ]
  },
  {
   "cell_type": "code",
   "execution_count": 3,
   "id": "e14a1eea-82a5-4fc7-9226-3236fb6c1741",
   "metadata": {},
   "outputs": [],
   "source": [
    "path = pc.Path()\n",
    "\n",
    "def config():\n",
    "    with open(path.config) as f:\n",
    "        return json.loads(f.read())\n",
    "\n",
    "config = config()"
   ]
  },
  {
   "cell_type": "code",
   "execution_count": 5,
   "id": "f15f8cc9-3077-4b1a-b897-5238b6e5a515",
   "metadata": {},
   "outputs": [
    {
     "name": "stderr",
     "output_type": "stream",
     "text": [
      "2022-10-15 16:45:11,490 WARN util.Utils: Your hostname, shiva-VirtualBox resolves to a loopback address: 127.0.1.1; using 10.0.2.15 instead (on interface enp0s3)\n",
      "2022-10-15 16:45:11,492 WARN util.Utils: Set SPARK_LOCAL_IP if you need to bind to another address\n",
      "Setting default log level to \"WARN\".\n",
      "To adjust logging level use sc.setLogLevel(newLevel). For SparkR, use setLogLevel(newLevel).\n"
     ]
    }
   ],
   "source": [
    "spark = (SparkSession\n",
    "        .builder\n",
    "        .appName(\"CaseStudy - MovieLenz\")\n",
    "        .master(\"local[6]\").enableHiveSupport()\n",
    "        .getOrCreate())\n",
    "\n",
    "# spark.sparkContext.getConf().getAll()"
   ]
  },
  {
   "cell_type": "code",
   "execution_count": 6,
   "id": "a911b061-2e90-44d4-8aed-9e928196c25f",
   "metadata": {},
   "outputs": [],
   "source": [
    "SourceMacroDict = {}\n",
    "\n",
    "SourceMacroDict['path'] = config['paths']['source_dir']\n",
    "\n",
    "##creating daa frames\n",
    "df = {}\n",
    "\n",
    "# df['genome-scores'] = spark.read.csv(f\"{SourceMacroDict['path']}/genome-scores.csv\",header=True,schema=StructType([StructField(\"movieID\",IntegerType(),True),StructField(\"tagID\",StringType(),True),StructField(\"relevance\",DoubleType()) ]))\n",
    "\n",
    "df['genome-tags'] = spark.read.csv(f\"{SourceMacroDict['path']}/genome-tags.csv\",header=True,schema=StructType([StructField(\"tagID\",IntegerType()),StructField(\"tag\",StringType())]))\n",
    "\n",
    "df['links'] = spark.read.csv(f\"{SourceMacroDict['path']}/links.csv\",header=True\n",
    "                             ,schema=StructType([StructField(\"movieId\", IntegerType()), StructField(\"imdbId\", IntegerType()), StructField(\"tmdbId\", IntegerType())]))\n",
    "\n",
    "df['movies'] = spark.read.csv(f\"{SourceMacroDict['path']}/movies.csv\",header=True,\n",
    "                              schema=StructType([StructField(\"movieId\", IntegerType()), StructField(\"title\",StringType()), StructField(\"genres\",StringType())]))\n",
    "\n",
    "df['ratings'] = spark.read.csv(f\"{SourceMacroDict['path']}/ratings.csv\",header=True,\n",
    "                               schema=StructType([StructField(\"userId\",IntegerType()),StructField(\"movieId\",IntegerType()),StructField(\"rating\",DoubleType()),StructField(\"timestamp\",StringType())]))\n",
    "\n",
    "df['tags'] = spark.read.csv(f\"{SourceMacroDict['path']}/tags.csv\",header=True,schema=StructType([StructField(\"userId\",IntegerType())\n",
    "                                                                                                 ,StructField(\"movieId\",IntegerType()),StructField(\"tag\",StringType()),StructField(\"timestamp\",StringType())]))\n",
    "\n",
    "df['ratings'] = df['ratings'].withColumn(\"ratings_timestamp\", f.expr(\"to_timestamp(from_unixtime(timestamp))\"))\n",
    "\n",
    "df['tags'] = df['tags'].withColumn(\"tags_timestamp\", f.expr(\"to_timestamp(from_unixtime(timestamp))\"))"
   ]
  },
  {
   "cell_type": "code",
   "execution_count": 7,
   "id": "0c176719-9486-4ec4-9e48-2210ad50ac43",
   "metadata": {},
   "outputs": [],
   "source": [
    "df['movies'] = df['movies'].withColumn(\"releasedInyear\",f.expr(\"cast(substr(split(title,'[(]')[1],1,4) as Integer)\"))"
   ]
  },
  {
   "cell_type": "code",
   "execution_count": 8,
   "id": "19170295-721a-464e-b28e-db5717ef5ee5",
   "metadata": {},
   "outputs": [
    {
     "name": "stderr",
     "output_type": "stream",
     "text": [
      "2022-10-15 16:45:30,743 WARN conf.HiveConf: HiveConf of name hive.metastore.event.db.notification.api.auth does not exist\n",
      "2022-10-15 16:45:30,743 WARN conf.HiveConf: HiveConf of name hive.server2.active.passive.ha.enable does not exist\n",
      "2022-10-15 16:45:30,744 WARN conf.HiveConf: HiveConf of name hive.hwi.listen.host does not exist\n",
      "2022-10-15 16:45:30,744 WARN conf.HiveConf: HiveConf of name hive.server2.thrift.bind.port does not exist\n",
      "2022-10-15 16:45:30,745 WARN conf.HiveConf: HiveConf of name hive.hwi.listen.port does not exist\n"
     ]
    }
   ],
   "source": [
    "#final report \n",
    "df['final_report'] = (\n",
    "    spark.table('genome_scores').where(\"relevance > 0.5\").join(df['genome-tags'],['tagid'],'inner')\n",
    "    .join(\n",
    "        df['movies'].where(\"releasedInyear is not null\") ,['movieID'],'inner'\n",
    "    )\n",
    "    .join(\n",
    "        df['ratings'].groupBy(\"movieId\").agg(f.round(f.avg(\"rating\"),2).alias(\"total_ratings\")),['movieId'],'inner'\n",
    "    )\n",
    ")"
   ]
  },
  {
   "cell_type": "code",
   "execution_count": 20,
   "id": "807c93e2-327c-4bcf-b95d-31609e4102b7",
   "metadata": {},
   "outputs": [
    {
     "name": "stderr",
     "output_type": "stream",
     "text": [
      "                                                                                \r"
     ]
    }
   ],
   "source": [
    "df['final_report'].write.parquet(\"s3a://movielenzreports/casestudy/movielenz_final\",mode=\"overwrite\")"
   ]
  },
  {
   "cell_type": "code",
   "execution_count": 9,
   "id": "067060f9-4e13-4cf5-884e-c5feaaed35b9",
   "metadata": {},
   "outputs": [
    {
     "name": "stderr",
     "output_type": "stream",
     "text": [
      "                                                                                \r"
     ]
    }
   ],
   "source": [
    "df['final_report'] = spark.read.parquet(\"s3a://movielenzreports/casestudy/movielenz_final\")"
   ]
  },
  {
   "cell_type": "code",
   "execution_count": 10,
   "id": "c016109b-0feb-4d09-b071-10b3d718b961",
   "metadata": {},
   "outputs": [],
   "source": [
    "# query to report movie name year adn total ratings along with geners\n",
    "df['movie_report'] = (\n",
    "    df['final_report'].groupBy(\"movieId\",\"title\").agg(f.round(f.avg(\"total_ratings\"),2).alias(\"total_ratings\"),\n",
    "    f.first(\"releasedinyear\").alias(\"releasedinyear\"),f.first(\"genres\").alias(\"genres\") )\n",
    "    .withColumn(\"total_genres_covered\", f.expr(\"size(split(genres,'[|]'))\"))\n",
    ")"
   ]
  },
  {
   "cell_type": "code",
   "execution_count": 11,
   "id": "63939d01-2fe5-4e64-b135-f4c4364b677d",
   "metadata": {},
   "outputs": [],
   "source": [
    "# config['mysql']"
   ]
  },
  {
   "cell_type": "code",
   "execution_count": 15,
   "id": "a50c7dd5-b7e0-49c4-a41b-f61d9d6f68af",
   "metadata": {},
   "outputs": [
    {
     "name": "stderr",
     "output_type": "stream",
     "text": [
      "Loading class `com.mysql.jdbc.Driver'. This is deprecated. The new driver class is `com.mysql.cj.jdbc.Driver'. The driver is automatically registered via the SPI and manual loading of the driver class is generally unnecessary.\n",
      "                                                                                \r"
     ]
    }
   ],
   "source": [
    "(\n",
    "    df['movie_report']\n",
    "    .write.format(\"jdbc\")\n",
    "    .option(\"url\",config['mysql']['url'])\n",
    "    .option(\"user\",config['mysql']['user'])\n",
    "    .option(\"password\",config['mysql']['password'])\n",
    "    .option(\"batchSize\",10000)\n",
    "    .option(\"dbtable\",\"movie_report\")\n",
    "    .option(\"driver\",\"com.mysql.cj.jdbc.Driver\")\n",
    "    .save()\n",
    ")"
   ]
  }
 ],
 "metadata": {
  "kernelspec": {
   "display_name": "Python 3 (ipykernel)",
   "language": "python",
   "name": "python3"
  },
  "language_info": {
   "codemirror_mode": {
    "name": "ipython",
    "version": 3
   },
   "file_extension": ".py",
   "mimetype": "text/x-python",
   "name": "python",
   "nbconvert_exporter": "python",
   "pygments_lexer": "ipython3",
   "version": "3.8.10"
  }
 },
 "nbformat": 4,
 "nbformat_minor": 5
}
